{
 "cells": [
  {
   "cell_type": "code",
   "execution_count": 21,
   "metadata": {},
   "outputs": [
    {
     "name": "stdout",
     "output_type": "stream",
     "text": [
      "\tRock paper Scissor game \n",
      "\n",
      "enter your name : Deepak\n",
      "enter your name : Manoj\n",
      "Deepak, make your choice [rock(r) / paper(p) / scissor (s)] : R\n",
      "Manoj, make your choice [rock(r) / paper(p) / scissor (s)] : S\n",
      "Deepak won the game\n"
     ]
    }
   ],
   "source": [
    "print(\"\\tRock paper Scissor game \\n\")\n",
    "\n",
    "#taking player names\n",
    "player1=str(input(\"enter your name : \"))\n",
    "player2=str(input(\"enter your name : \"))\n",
    "\n",
    "\n",
    "#Asking players to choose their choice\n",
    "choice1 = input(\"{player1}, make your choice [rock(r) / paper(p) / scissor (s)] : \".format(player1=player1))\n",
    "choice2 = input(\"{player2}, make your choice [rock(r) / paper(p) / scissor (s)] : \".format(player2=player2))\n",
    "\n",
    "#if player 1 picking Rock\n",
    "if choice1==\"r\" or choice1==\"R\":\n",
    "    if choice2==\"r\" or choice2==\"R\":\n",
    "        print(\"It's A Tie\")\n",
    "    elif choice2==\"p\"or choice2==\"P\":\n",
    "        print(\"{player2} won the game\".format(player2=player2))\n",
    "    elif choice2==\"s\"or choice2==\"S\":\n",
    "        print(\"{player1} won the game\".format(player1=player1))\n",
    "\n",
    "#if player 1 picking paper\n",
    "elif choice1==\"p\" or choice1==\"P\":\n",
    "    if choice2==\"r\"or choice2==\"R\":\n",
    "        print(\"{player1} won the game\".format(player1=player1))\n",
    "    elif choice2==\"p\"or choice2==\"P\": \n",
    "        print(\"It's A Tie\")\n",
    "    elif choice2==\"s\"or choice2==\"S\": \n",
    "        print(\"{player2} won the game\".format(player2=player2))\n",
    "\n",
    "#if player 1 picking Scissor\n",
    "elif choice1==\"s\"or choice1==\"S\":\n",
    "    if choice2==\"r\"or choice2==\"R\": \n",
    "        print(\"{player2} won the game\".format(player2=player2))\n",
    "    elif choice2==\"p\"or choice2==\"P\":\n",
    "        print(\"{player1} won the game\".format(player1=player1))\n",
    "    elif choice2==\"s\"or choice2==\"S\": \n",
    "        print(\"It's A Tie\")\n",
    "        \n",
    "#invalid choice\n",
    "else:\n",
    "    print(\"Invalid Choice! Game Terminated\")"
   ]
  },
  {
   "cell_type": "code",
   "execution_count": null,
   "metadata": {},
   "outputs": [],
   "source": []
  }
 ],
 "metadata": {
  "kernelspec": {
   "display_name": "Python 3",
   "language": "python",
   "name": "python3"
  }
 },
 "nbformat": 4,
 "nbformat_minor": 4
}
